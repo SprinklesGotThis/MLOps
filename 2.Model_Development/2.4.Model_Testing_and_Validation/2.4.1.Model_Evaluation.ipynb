{
 "cells": [
  {
   "cell_type": "markdown",
   "metadata": {},
   "source": [
    "[Home](../../README.md)\n",
    "\n",
    "### Model Evaluation\n",
    "\n",
    "This is a demonstration of evaluating a model."
   ]
  },
  {
   "cell_type": "markdown",
   "metadata": {},
   "source": [
    "#### Step 1\n",
    "\n",
    "Load the required dependencies.\n"
   ]
  },
  {
   "cell_type": "code",
   "execution_count": 3,
   "metadata": {},
   "outputs": [],
   "source": [
    "# Import frameworks\n",
    "import numpy as np\n",
    "import pandas as pd\n",
    "import matplotlib.pyplot as plt\n",
    "plt.style.use('../../style_Matplotlib_charts.mplstyle')\n",
    "from sklearn.linear_model import LinearRegression\n",
    "from sklearn.preprocessing import PolynomialFeatures\n",
    "import pickle"
   ]
  },
  {
   "cell_type": "markdown",
   "metadata": {},
   "source": [
    "####  Step 2\n",
    "\n",
    "Load the model for testing"
   ]
  },
  {
   "cell_type": "code",
   "execution_count": 4,
   "metadata": {},
   "outputs": [],
   "source": [
    "filename = 'my_saved_model_v1.sav'\n",
    "model_A = pickle.load(open(filename, 'rb'))\n"
   ]
  },
  {
   "cell_type": "markdown",
   "metadata": {},
   "source": [
    "(Optional) Load a second model if you want to do comparative testing"
   ]
  },
  {
   "cell_type": "code",
   "execution_count": 5,
   "metadata": {},
   "outputs": [],
   "source": [
    "filename = 'my_saved_model_v1.sav'\n",
    "model_B = pickle.load(open(filename, 'rb'))"
   ]
  },
  {
   "cell_type": "markdown",
   "metadata": {},
   "source": [
    "####  Step 3\n",
    "Open and parse the test data CSV file and store the data as variable array data objects."
   ]
  },
  {
   "cell_type": "code",
   "execution_count": 6,
   "metadata": {},
   "outputs": [],
   "source": [
    "x_col = 'BMI'\n",
    "testing_data = pd.read_csv('2.4.1.testing_data.csv')\n",
    "x_test = np.array(testing_data[x_col]).reshape(-1,1)\n",
    "y_test = np.array(testing_data['Target'])"
   ]
  },
  {
   "cell_type": "markdown",
   "metadata": {},
   "source": [
    "#### Step 5\n",
    "\n",
    "Plot the test data features, targets and linear regression model to visually evaluate the model."
   ]
  },
  {
   "cell_type": "code",
   "execution_count": 7,
   "metadata": {},
   "outputs": [
    {
     "data": {
      "image/png": "[encoded data removed]",
      "text/plain": [
       "<Figure size 640x480 with 1 Axes>"
      ]
     },
     "metadata": {},
     "output_type": "display_data"
    }
   ],
   "source": [
    "y_pred = model_A.predict(x_test)\n",
    "plt.scatter(x_test, y_pred)\n",
    "plt.scatter(x_test, y_test, marker='x', c='r')\n",
    "plt.title(\"NESA Course Specifications Data\")\n",
    "plt.ylabel(f'Testing {x_col}')\n",
    "plt.xlabel(f'Testing Target')\n",
    "plt.show()"
   ]
  },
  {
   "cell_type": "markdown",
   "metadata": {},
   "source": [
    "#### Step 6\n",
    "\n",
    "Use the 'score' method of the `LinearRegression` class to return a score based evaluation of the models accuracy or performance."
   ]
  },
  {
   "cell_type": "code",
   "execution_count": 8,
   "metadata": {},
   "outputs": [
    {
     "name": "stdout",
     "output_type": "stream",
     "text": [
      "Training data score: 0.25401471894077554\n"
     ]
    }
   ],
   "source": [
    "test_score = model_A.score(x_test, y_test)\n",
    "print(f'Training data score: {test_score}')"
   ]
  },
  {
   "cell_type": "markdown",
   "metadata": {},
   "source": [
    "#### Step 7\n",
    "\n",
    "Manually calculate and evaluate the 'loss' and 'cost' of the model using the test data."
   ]
  },
  {
   "cell_type": "code",
   "execution_count": 9,
   "metadata": {},
   "outputs": [
    {
     "name": "stdout",
     "output_type": "stream",
     "text": [
      "      DoB    DoT  Predicted result        Loss\n",
      "0   0.800  200.0        224.530409    601.7209\n",
      "1   0.580  198.0        177.083301    437.6464\n",
      "2   0.784  279.0        221.079710   3354.7264\n",
      "3   0.312  127.0        119.284098     59.5984\n",
      "4   0.472   48.0        153.791085  11191.5241\n",
      "5   0.244   68.0        104.618628   1341.0244\n",
      "6   0.364   66.0        130.498868   4160.2500\n",
      "7   0.440   88.0        146.889687   3468.0321\n",
      "8   0.600  310.0        181.396675  16537.9600\n",
      "9   0.452  115.0        149.477711   1188.8704\n",
      "10  0.480  182.0        155.516434    701.1904\n",
      "11  0.404  216.0        139.125615   5908.9969\n",
      "12  0.880  237.0        241.783902     22.8484\n",
      "13  0.328  140.0        122.734796    298.2529\n",
      "14  0.244  183.0        104.618628   6143.4244\n",
      "15  0.704   78.0        203.826216  15833.1889\n",
      "16  0.220   65.0         99.442580   1186.1136\n",
      "17  0.656  142.0        193.474120   2649.1609\n",
      "18  0.572  296.0        175.357952  14554.0096\n",
      "19  0.772  261.0        218.491686   1807.1001\n",
      "20  0.660  173.0        194.336795    455.3956\n",
      "21  0.604  155.0        182.259349    743.1076\n",
      "22  0.320  200.0        121.009447   6239.4201\n",
      "23  0.864  258.0        238.333204    386.9089\n",
      "24  0.332   65.0        123.597471   3433.9600\n",
      "25  0.300  185.0        116.696074   4664.8900\n",
      "26  0.524  113.0        165.005856   2705.0401\n",
      "27  0.368   64.0        131.361543   4537.3696\n",
      "28  0.432  134.0        145.164338    124.5456\n",
      "29  0.608   52.0        183.122024  17192.4544\n",
      "30  0.452  113.0        149.477711   1330.7904\n",
      "31  0.208   79.0         96.854556    318.6225\n",
      "32  0.316  128.0        120.146772     61.6225\n",
      "33  0.524  273.0        165.005856  11661.8401\n",
      "34  0.520  128.0        164.143181   1306.0996\n",
      "35  0.676   91.0        197.787494  11404.1041\n",
      "36  0.532  281.0        166.731205  13057.6329\n",
      "37  0.260  181.0        108.069327   5318.7849\n",
      "38  0.472  191.0        153.791085   1384.5841\n",
      "39  0.392   90.0        136.537591   2165.9716\n",
      "40  0.288   90.0        114.108050    581.2921\n",
      "41  0.240  162.0        103.755953   3391.8976\n",
      "42  0.200   72.0         95.129207    534.9969\n",
      "43  0.528  262.0        165.868530   9240.9769\n",
      "44  0.584  236.0        177.945976   3369.8025\n",
      "45  0.412  200.0        140.850965   3498.7225\n",
      "46  0.604  147.0        182.259349   1243.2676\n",
      "47  0.368  144.0        131.361543    159.7696\n",
      "48  0.752  257.0        214.178312   1833.5524\n",
      "49  0.180   48.0         90.815833   1833.5524\n",
      "50  0.592   90.0        179.671325   8040.7089\n",
      "51  0.628   99.0        187.435397   7821.6336\n",
      "52  0.300  103.0        116.696074    187.6900\n",
      "53  0.364   84.0        130.498868   2162.2500\n",
      "54  0.580  270.0        177.083301   8634.1264\n",
      "55  0.268   87.0        109.794676    519.3841\n",
      "56  0.524  248.0        165.005856   6887.3401\n",
      "The cost or average loss of this model is 2104.2083105263155\n"
     ]
    }
   ],
   "source": [
    "table = pd.DataFrame({\n",
    "    testing_data.columns[0]: x_test.flatten(),  # Flatten x for easy display\n",
    "    testing_data.columns[1]: y_test,\n",
    "    'Predicted result':model_A.predict(x_test),\n",
    "    'Loss' : abs(model_A.predict(x_test).round(2) - y_test)**2\n",
    "})\n",
    "print(table)\n",
    "cost = 1 / (2 * table.shape[0]) * table['Loss'].sum()\n",
    "\n",
    "print(f\"The cost or average loss of this model is {cost}\")"
   ]
  },
  {
   "cell_type": "markdown",
   "metadata": {},
   "source": [
    "You may want to do some manual predictions to understand your model."
   ]
  },
  {
   "cell_type": "code",
   "execution_count": 10,
   "metadata": {},
   "outputs": [
    {
     "name": "stdout",
     "output_type": "stream",
     "text": [
      "[73.56233956]\n",
      "[267.66414263]\n"
     ]
    }
   ],
   "source": [
    "print(model_A.predict([[0.1]]))\n",
    "print(model_A.predict([[1]]))"
   ]
  },
  {
   "cell_type": "markdown",
   "metadata": {},
   "source": [
    "#### Step 8\n",
    "\n",
    "Evaluate the X axis intercept and gradient or coefficient of your model by using the getter methods to return the intercept and coefficient from my_model() object."
   ]
  },
  {
   "cell_type": "code",
   "execution_count": 11,
   "metadata": {},
   "outputs": [
    {
     "name": "stdout",
     "output_type": "stream",
     "text": [
      "X Axis intercept: 51.995472555560255\n",
      "Coefficient: [215.66867008]\n"
     ]
    }
   ],
   "source": [
    "print(f'X Axis intercept: {model_A.intercept_}')\n",
    "print(f'Coefficient: {model_A.coef_}')"
   ]
  },
  {
   "cell_type": "markdown",
   "metadata": {},
   "source": [
    "#### Step 9. Multiple Variable Linear Regression\n",
    "\n",
    "You should be able to understand the code snippets with less guidelines."
   ]
  },
  {
   "cell_type": "code",
   "execution_count": 12,
   "metadata": {},
   "outputs": [],
   "source": [
    "filename = 'my_saved_model_v2.sav'\n",
    "model_C = pickle.load(open(filename, 'rb'))"
   ]
  },
  {
   "cell_type": "code",
   "execution_count": 13,
   "metadata": {},
   "outputs": [],
   "source": [
    "mx_col = ['BMI','BP','FDR']\n",
    "testing_data = pd.read_csv('2.4.1.testing_data.csv')\n",
    "mx_test = np.array(testing_data[mx_col])\n",
    "my_test = np.array(testing_data['Target'])"
   ]
  },
  {
   "cell_type": "code",
   "execution_count": 14,
   "metadata": {},
   "outputs": [
    {
     "data": {
      "image/png": "[encoded data removed]",
      "text/plain": [
       "<Figure size 1200x300 with 3 Axes>"
      ]
     },
     "metadata": {},
     "output_type": "display_data"
    }
   ],
   "source": [
    "my_pred = model_C.predict(mx_test)\n",
    "\n",
    "# plot predictions and targets vs original features    \n",
    "fig,ax=plt.subplots(1,len(mx_col),figsize=(12,3),sharey=True)\n",
    "for i in range(len(ax)):\n",
    "    ax[i].scatter(mx_test[:,i],my_test, label = 'target')\n",
    "    ax[i].set_xlabel(mx_col[i])\n",
    "    ax[i].scatter(mx_test[:,i],my_pred,color=\"orange\", label = 'predict')\n",
    "    ax[i].set_ylabel(\"Target\"); ax[i].legend();\n",
    "fig.suptitle(\"Diabetes Disease Progress\")\n",
    "plt.show()"
   ]
  },
  {
   "cell_type": "code",
   "execution_count": 15,
   "metadata": {},
   "outputs": [
    {
     "name": "stdout",
     "output_type": "stream",
     "text": [
      "Training data score: 0.3387903190763467\n"
     ]
    }
   ],
   "source": [
    "test_score = model_C.score(mx_test, my_test)\n",
    "print(f'Training data score: {test_score}')"
   ]
  },
  {
   "cell_type": "code",
   "execution_count": 16,
   "metadata": {},
   "outputs": [
    {
     "name": "stdout",
     "output_type": "stream",
     "text": [
      "[37.43587135]\n",
      "[258.15250336]\n"
     ]
    }
   ],
   "source": [
    "print(model_C.predict([[0.1,0.1,0.1]]))\n",
    "print(model_C.predict([[1,0.5,1]]))"
   ]
  },
  {
   "cell_type": "code",
   "execution_count": 17,
   "metadata": {},
   "outputs": [
    {
     "name": "stdout",
     "output_type": "stream",
     "text": [
      "The cost or average loss of this model is 1865.0987692982455\n",
      "      BMI        BP  FDR  Target  Predicted result        Loss\n",
      "0   0.800  0.509765  1.0   200.0        222.588274    510.3081\n",
      "1   0.580  0.580353  1.0   198.0        190.218141     60.5284\n",
      "2   0.784  0.380353  1.0   279.0        205.057872   5467.1236\n",
      "3   0.312  0.376471  2.0   127.0        129.869845      8.2369\n",
      "4   0.472  0.800000  0.0    48.0        183.413213  18335.8681\n",
      "5   0.244  0.317647  0.0    68.0         87.206811    369.0241\n",
      "6   0.364  0.588235  0.0    66.0        139.727516   5436.1129\n",
      "7   0.440  0.447059  2.0    88.0        161.297943   5372.8900\n",
      "8   0.600  0.352941  2.0   310.0        180.014354  16897.4001\n",
      "9   0.452  0.176471  2.0   115.0        132.976567    323.2804\n",
      "10  0.480  0.274471  0.0   182.0        125.602138   3180.9600\n",
      "11  0.404  0.917647  2.0   216.0        207.778674     67.5684\n",
      "12  0.880  0.564706  2.0   237.0        255.232511    332.3329\n",
      "13  0.328  0.235294  2.0   140.0        116.878933    534.5344\n",
      "14  0.244  0.294118  0.0   183.0         84.552783   9692.4025\n",
      "15  0.704  0.258824  0.0    78.0        164.902738   7551.6100\n",
      "16  0.220  0.270588  2.0    65.0        101.060523   1300.3236\n",
      "17  0.656  0.376471  2.0   142.0        192.934764   2593.8649\n",
      "18  0.572  0.811765  2.0   296.0        226.634697   4812.1969\n",
      "19  0.772  0.682353  1.0   261.0        236.922374    579.8464\n",
      "20  0.660  0.447059  0.0   173.0        178.068514     25.7049\n",
      "21  0.604  0.729412  0.0   155.0        199.650460   1993.6225\n",
      "22  0.320  0.211765  0.0   200.0         89.196634  12276.6400\n",
      "23  0.864  0.682353  2.0   258.0        265.569396     57.3049\n",
      "24  0.332  0.388235  1.0    65.0        123.082601   3373.2864\n",
      "25  0.300  0.400000  1.0   185.0        118.543111   4416.9316\n",
      "26  0.524  0.776471  0.0   113.0        190.292255   5973.7441\n",
      "27  0.368  0.329412  2.0    64.0        134.828172   5016.8889\n",
      "28  0.432  0.505882  2.0   134.0        166.466386   1054.3009\n",
      "29  0.608  0.376471  0.0    52.0        160.573363  11787.4449\n",
      "30  0.452  0.376471  0.0   113.0        131.974155    359.8609\n",
      "31  0.208  0.470588  2.0    79.0        121.419817   1799.4564\n",
      "32  0.316  0.258824  2.0   128.0        117.333021    113.8489\n",
      "33  0.524  0.658824  2.0   273.0        200.583763   5244.6564\n",
      "34  0.520  0.388235  2.0   128.0        169.329135   1708.1689\n",
      "35  0.676  0.274471  0.0    91.0        161.534475   4974.4809\n",
      "36  0.532  0.541176  2.0   281.0        188.780252   8504.5284\n",
      "37  0.260  0.352941  2.0   181.0        117.682749   4009.4224\n",
      "38  0.472  0.623529  2.0   191.0        187.069653     15.4449\n",
      "39  0.392  0.423529  0.0    90.0        126.282515   1316.2384\n",
      "40  0.288  0.584353  0.0    90.0        125.356654   1250.3296\n",
      "41  0.240  0.188235  0.0   162.0         71.876347   8121.6144\n",
      "42  0.200  0.231412  1.0    72.0         81.194180     84.4561\n",
      "43  0.528  0.423529  1.0   262.0        162.995980   9801.0000\n",
      "44  0.584  0.788235  0.0   236.0        202.618964   1114.2244\n",
      "45  0.412  0.329412  1.0   200.0        131.113793   4745.8321\n",
      "46  0.604  0.423529  1.0   147.0        176.928927    895.8049\n",
      "47  0.368  0.447059  2.0   144.0        148.098309     16.8100\n",
      "48  0.752  0.803882  2.0   257.0        258.744683      3.0276\n",
      "49  0.180  0.294118  1.0    48.0         84.600598   1339.5600\n",
      "50  0.592  0.294118  0.0    90.0        148.351015   3404.7225\n",
      "51  0.628  0.517647  2.0    99.0        203.725737  10968.3729\n",
      "52  0.300  0.823529  2.0   103.0        178.096427   5640.0100\n",
      "53  0.364  0.376471  0.0    84.0        115.841269   1013.7856\n",
      "54  0.580  0.894118  0.0   270.0        213.828774   3155.0689\n",
      "55  0.268  0.458824  0.0    87.0        107.530853    421.4809\n",
      "56  0.524  0.682353  1.0   248.0        191.456968   3196.7716\n"
     ]
    }
   ],
   "source": [
    "data = {col: mx_test[:, i] for i, col in enumerate(mx_col)}\n",
    "data['Target'] = my_test\n",
    "data['Predicted result'] = model_C.predict(mx_test)\n",
    "data['Loss'] = abs(model_C.predict(mx_test).round(2) - my_test)**2\n",
    "table = pd.DataFrame(data)\n",
    "\n",
    "cost = 1 / (2 * table.shape[0]) * table['Loss'].sum()\n",
    "print(f\"The cost or average loss of this model is {cost}\")\n",
    "\n",
    "print(table)"
   ]
  },
  {
   "cell_type": "code",
   "execution_count": 18,
   "metadata": {},
   "outputs": [
    {
     "name": "stdout",
     "output_type": "stream",
     "text": [
      "X Axis intercept: 6.645347562954015\n",
      "Coefficient: [183.3282513  112.7961641   11.78082245]\n"
     ]
    }
   ],
   "source": [
    "print(f'X Axis intercept: {model_C.intercept_}')\n",
    "print(f'Coefficient: {model_C.coef_}')"
   ]
  },
  {
   "cell_type": "markdown",
   "metadata": {},
   "source": [
    "#### Step 10. Polynomial Linear Regression\n",
    "\n",
    "You should be able to understand the code snippets with less guidelines."
   ]
  },
  {
   "cell_type": "code",
   "execution_count": 19,
   "metadata": {},
   "outputs": [],
   "source": [
    "model_filename = 'my_saved_model_v3.sav'\n",
    "poly_filename = 'my_saved_model_v3.sav' #changed file cause i dont have a 'my_saved_poly_v3.pkl'???\n",
    "\n",
    "model_D = pickle.load(open(model_filename, 'rb'))\n",
    "poly = pickle.load(open(poly_filename, 'rb'))"
   ]
  },
  {
   "cell_type": "code",
   "execution_count": 20,
   "metadata": {},
   "outputs": [],
   "source": [
    "mx_col = ['BMI']\n",
    "testing_data = pd.read_csv('2.4.1.testing_data.csv')\n",
    "mx_test = np.array(testing_data[mx_col])\n",
    "my_test = np.array(testing_data['Target'])"
   ]
  },
  {
   "cell_type": "code",
   "execution_count": 29,
   "metadata": {},
   "outputs": [],
   "source": [
    "# doesnt work??\n",
    "poly = PolynomialFeatures(degree=4, include_bias=False) # so i added this\n",
    "poly_features = poly.fit_transform(mx_test)"
   ]
  },
  {
   "cell_type": "code",
   "execution_count": 30,
   "metadata": {},
   "outputs": [
    {
     "data": {
      "image/png": "[encoded data removed]",
      "text/plain": [
       "<Figure size 640x480 with 1 Axes>"
      ]
     },
     "metadata": {},
     "output_type": "display_data"
    }
   ],
   "source": [
    "y_pred = model_D.predict(poly_features)\n",
    "\n",
    "plt.scatter(x_test, y_pred)\n",
    "plt.scatter(x_test, y_test, marker='x', c='r')\n",
    "plt.title(\"NESA Course Specifications Data\")\n",
    "plt.ylabel(f'Testing {x_col}')\n",
    "plt.xlabel(f'Testing Target')\n",
    "plt.show()"
   ]
  },
  {
   "cell_type": "code",
   "execution_count": 24,
   "metadata": {},
   "outputs": [
    {
     "name": "stdout",
     "output_type": "stream",
     "text": [
      "Training data score: 0.2540706033163278\n"
     ]
    }
   ],
   "source": [
    "test_score = model_D.score(poly_features, my_test)\n",
    "print(f'Training data score: {test_score}')"
   ]
  },
  {
   "cell_type": "code",
   "execution_count": 25,
   "metadata": {},
   "outputs": [
    {
     "name": "stdout",
     "output_type": "stream",
     "text": [
      "[113.27859923]\n"
     ]
    }
   ],
   "source": [
    "new_poly_feature = poly.fit_transform([[0.1]])\n",
    "print(model_D.predict(new_poly_feature))"
   ]
  },
  {
   "cell_type": "code",
   "execution_count": 26,
   "metadata": {},
   "outputs": [
    {
     "name": "stdout",
     "output_type": "stream",
     "text": [
      "The cost or average loss of this model is 2104.0626245614035\n",
      "      BMI  Target  Predicted result        Loss\n",
      "0   0.800   200.0        208.759781     76.7376\n",
      "1   0.580   198.0        183.013885    224.7001\n",
      "2   0.784   279.0        205.743885   5367.0276\n",
      "3   0.312   127.0        114.281014    161.7984\n",
      "4   0.472    48.0        161.414747  12861.8281\n",
      "5   0.244    68.0         98.316591    919.3024\n",
      "6   0.364    66.0        129.893381   4081.9321\n",
      "7   0.440    88.0        152.795226   4199.0400\n",
      "8   0.600   310.0        185.721228  15445.5184\n",
      "9   0.452   115.0        156.128008   1691.6769\n",
      "10  0.480   182.0        163.427014    344.8449\n",
      "11  0.404   216.0        142.219886   5443.4884\n",
      "12  0.880   237.0        234.427351      6.6049\n",
      "13  0.328   140.0        118.922973    444.3664\n",
      "14  0.244   183.0         98.316591   7170.7024\n",
      "15  0.704    78.0        196.005421  13926.3601\n",
      "16  0.220    65.0         95.013890    900.6001\n",
      "17  0.656   142.0        191.726498   2473.0729\n",
      "18  0.572   296.0        181.827368  13034.7889\n",
      "19  0.772   261.0        203.795289   3271.8400\n",
      "20  0.660   173.0        192.093894    364.4281\n",
      "21  0.604   155.0        186.221095    974.6884\n",
      "22  0.320   200.0        116.575925   6958.8964\n",
      "23  0.864   258.0        227.516084    929.0304\n",
      "24  0.332    65.0        120.113179   3037.1121\n",
      "25  0.300   185.0        110.957276   5481.9216\n",
      "26  0.524   113.0        173.339634   3640.9156\n",
      "27  0.368    64.0        131.133120   4506.4369\n",
      "28  0.432   134.0        150.513711    272.5801\n",
      "29  0.608    52.0        186.708026  18146.7841\n",
      "30  0.452   113.0        156.128008   1860.1969\n",
      "31  0.208    79.0         94.003710    225.0000\n",
      "32  0.316   128.0        115.421367    158.2564\n",
      "33  0.524   273.0        173.339634   9932.1156\n",
      "34  0.520   128.0        172.522396   1982.0304\n",
      "35  0.676    91.0        193.524513  10510.3504\n",
      "36  0.532   281.0        174.922811  11252.9664\n",
      "37  0.260   181.0        101.324936   6348.9024\n",
      "38  0.472   191.0        161.414747    875.5681\n",
      "39  0.392    90.0        138.555605   2358.0736\n",
      "40  0.288    90.0        107.805864    317.1961\n",
      "41  0.240   162.0         97.658619   4139.6356\n",
      "42  0.200    72.0         93.599595    466.5600\n",
      "43  0.528   262.0        174.139774   7719.3796\n",
      "44  0.584   236.0        183.584307   2747.8564\n",
      "45  0.412   200.0        144.631631   3065.8369\n",
      "46  0.604   147.0        186.221095   1538.2084\n",
      "47  0.368   144.0        131.133120    165.6369\n",
      "48  0.752   257.0        201.031939   3132.6409\n",
      "49  0.180    48.0         93.638641   2083.0096\n",
      "50  0.592    90.0        184.681023   8964.3024\n",
      "51  0.628    99.0        188.964989   8092.8016\n",
      "52  0.300   103.0        110.957276     63.3616\n",
      "53  0.364    84.0        129.893381   2105.8921\n",
      "54  0.580   270.0        183.013885   7567.2601\n",
      "55  0.268    87.0        103.033404    256.9609\n",
      "56  0.524   248.0        173.339634   5574.1156\n"
     ]
    }
   ],
   "source": [
    "data = {col: mx_test[:, i] for i, col in enumerate(mx_col)}\n",
    "data['Target'] = my_test\n",
    "data['Predicted result'] = model_D.predict(poly_features)\n",
    "data['Loss'] = abs(model_D.predict(poly_features).round(2) - my_test)**2\n",
    "table = pd.DataFrame(data)\n",
    "\n",
    "cost = 1 / (2 * table.shape[0]) * table['Loss'].sum()\n",
    "print(f\"The cost or average loss of this model is {cost}\")\n",
    "\n",
    "print(table)"
   ]
  },
  {
   "cell_type": "markdown",
   "metadata": {},
   "source": [
    "#### Step 11\n",
    "\n",
    "When your model is ready for operations, move it to the [3.Operations\\3.1.Deploy_Model](\\3.Operations\\3.1.Deploy_Model) folder."
   ]
  }
 ],
 "metadata": {
  "kernelspec": {
   "display_name": ".venv",
   "language": "python",
   "name": "python3"
  },
  "language_info": {
   "codemirror_mode": {
    "name": "ipython",
    "version": 3
   },
   "file_extension": ".py",
   "mimetype": "text/x-python",
   "name": "python",
   "nbconvert_exporter": "python",
   "pygments_lexer": "ipython3",
   "version": "3.12.1"
  }
 },
 "nbformat": 4,
 "nbformat_minor": 2
}
