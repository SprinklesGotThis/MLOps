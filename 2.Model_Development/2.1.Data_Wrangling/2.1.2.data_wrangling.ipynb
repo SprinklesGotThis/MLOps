{
 "cells": [
  {
   "cell_type": "markdown",
   "metadata": {},
   "source": [
    "[Home](../../README.md)\n",
    "\n",
    "### Data Wrangling\n",
    "\n",
    "This is a demonstration of data wrangling using [Pandas](https://pandas.pydata.org/) the library for data analysis and manipulation.\n",
    "\n",
    "This Jupyter Notepad demonstrates different processes you can apply to your data to prepare it for feature engineering and model training. For this demonstration we will wrangle the diabetes data set you previewed in the last Jupyter Notebook.\n",
    "\n",
    "> [!Note]\n",
    "> None of these processes are destructive to the source CSV as long as you save the modified data to a new CSV."
   ]
  },
  {
   "cell_type": "markdown",
   "metadata": {},
   "source": [
    "#### Load the required dependencies"
   ]
  },
  {
   "cell_type": "code",
   "execution_count": 1,
   "metadata": {},
   "outputs": [],
   "source": [
    "# Import frameworks\n",
    "import pandas as pd"
   ]
  },
  {
   "cell_type": "markdown",
   "metadata": {},
   "source": [
    "####  Store the data as a local variable\n",
    "\n",
    "The data frame is a Pandas object that structures your tabular data into an appropriate format. It loads the complete data in memory so it is now ready for preprocessing."
   ]
  },
  {
   "cell_type": "code",
   "execution_count": 2,
   "metadata": {},
   "outputs": [],
   "source": [
    "data_frame = pd.read_csv(\"2.1.2.diabeties_sample_data.csv\")"
   ]
  },
  {
   "cell_type": "markdown",
   "metadata": {},
   "source": [
    "#### Dealing with null values\n",
    "\n",
    "Null values during data analysis can cause runtime errors and unexpected results. It is important to identify null values and deal with them appropriately before training a model.\n",
    "\n",
    "The `isnull().sum()` method call returns the null values in any column."
   ]
  },
  {
   "cell_type": "code",
   "execution_count": 3,
   "metadata": {},
   "outputs": [
    {
     "data": {
      "application/vnd.microsoft.datawrangler.viewer.v0+json": {
       "columns": [
        {
         "name": "index",
         "rawType": "object",
         "type": "string"
        },
        {
         "name": "0",
         "rawType": "int64",
         "type": "integer"
        }
       ],
       "ref": "d96c089b-d9b2-4985-b32a-ee87d737ccf1",
       "rows": [
        [
         "DoB",
         "0"
        ],
        [
         "DoT",
         "0"
        ],
        [
         "SEX",
         "1"
        ],
        [
         "BMI",
         "0"
        ],
        [
         "BP",
         "0"
        ],
        [
         "TC",
         "0"
        ],
        [
         "BGU",
         "0"
        ],
        [
         "FDR",
         "0"
        ],
        [
         "Target",
         "1"
        ]
       ],
       "shape": {
        "columns": 1,
        "rows": 9
       }
      },
      "text/plain": [
       "DoB       0\n",
       "DoT       0\n",
       "SEX       1\n",
       "BMI       0\n",
       "BP        0\n",
       "TC        0\n",
       "BGU       0\n",
       "FDR       0\n",
       "Target    1\n",
       "dtype: int64"
      ]
     },
     "execution_count": 3,
     "metadata": {},
     "output_type": "execute_result"
    }
   ],
   "source": [
    "data_frame.isnull().sum()"
   ]
  },
  {
   "cell_type": "markdown",
   "metadata": {},
   "source": [
    "If you have null data there are many ways to deal with the empty/null values. These are the two most common approaches.\n",
    "1. Remove any row with a null value with a `dropna()` method call.\n",
    "2. Replace missing values with another value with a `fillna()` method call. Generally, we use mean value for numerical columns because it may cause minimal changes in your mathematical analysis while maintaining the original size of the data.\n",
    "\n",
    "Students should reflect why this example removes the null 'SEX' but replacing the mean 'Target'?"
   ]
  },
  {
   "cell_type": "code",
   "execution_count": 4,
   "metadata": {},
   "outputs": [
    {
     "data": {
      "application/vnd.microsoft.datawrangler.viewer.v0+json": {
       "columns": [
        {
         "name": "index",
         "rawType": "object",
         "type": "string"
        },
        {
         "name": "0",
         "rawType": "int64",
         "type": "integer"
        }
       ],
       "ref": "3581054d-eee7-4305-ae3b-7e13f25bff84",
       "rows": [
        [
         "DoB",
         "0"
        ],
        [
         "DoT",
         "0"
        ],
        [
         "SEX",
         "0"
        ],
        [
         "BMI",
         "0"
        ],
        [
         "BP",
         "0"
        ],
        [
         "TC",
         "0"
        ],
        [
         "BGU",
         "0"
        ],
        [
         "FDR",
         "0"
        ],
        [
         "Target",
         "1"
        ]
       ],
       "shape": {
        "columns": 1,
        "rows": 9
       }
      },
      "text/plain": [
       "DoB       0\n",
       "DoT       0\n",
       "SEX       0\n",
       "BMI       0\n",
       "BP        0\n",
       "TC        0\n",
       "BGU       0\n",
       "FDR       0\n",
       "Target    1\n",
       "dtype: int64"
      ]
     },
     "execution_count": 4,
     "metadata": {},
     "output_type": "execute_result"
    }
   ],
   "source": [
    "# Remove Null values\n",
    "data_frame = data_frame.dropna(subset=['SEX'])\n",
    "data_frame.isnull().sum()"
   ]
  },
  {
   "cell_type": "code",
   "execution_count": 5,
   "metadata": {},
   "outputs": [
    {
     "data": {
      "application/vnd.microsoft.datawrangler.viewer.v0+json": {
       "columns": [
        {
         "name": "index",
         "rawType": "object",
         "type": "string"
        },
        {
         "name": "0",
         "rawType": "int64",
         "type": "integer"
        }
       ],
       "ref": "e0b09ac4-f903-4618-a0c8-de18a061bab0",
       "rows": [
        [
         "DoB",
         "0"
        ],
        [
         "DoT",
         "0"
        ],
        [
         "SEX",
         "0"
        ],
        [
         "BMI",
         "0"
        ],
        [
         "BP",
         "0"
        ],
        [
         "TC",
         "0"
        ],
        [
         "BGU",
         "0"
        ],
        [
         "FDR",
         "0"
        ],
        [
         "Target",
         "0"
        ]
       ],
       "shape": {
        "columns": 1,
        "rows": 9
       }
      },
      "text/plain": [
       "DoB       0\n",
       "DoT       0\n",
       "SEX       0\n",
       "BMI       0\n",
       "BP        0\n",
       "TC        0\n",
       "BGU       0\n",
       "FDR       0\n",
       "Target    0\n",
       "dtype: int64"
      ]
     },
     "execution_count": 5,
     "metadata": {},
     "output_type": "execute_result"
    }
   ],
   "source": [
    "# Replace Null values with the mean value for the column\n",
    "data_frame['Target'] = data_frame['Target'].fillna(data_frame['Target'].mean())\n",
    "data_frame.isnull().sum()"
   ]
  },
  {
   "cell_type": "markdown",
   "metadata": {},
   "source": [
    "#### Remove Duplicates\n",
    "\n",
    "Duplicate data can have detrimental effects on your machine learning models and outcomes, such as reducing data diversity and representativeness, which can lead to overfitting or biased models.\n",
    "\n",
    "The `duplicated().sum()` method call returns the count of duplicate rows in the data frame."
   ]
  },
  {
   "cell_type": "code",
   "execution_count": 6,
   "metadata": {},
   "outputs": [
    {
     "data": {
      "text/plain": [
       "np.int64(5)"
      ]
     },
     "execution_count": 6,
     "metadata": {},
     "output_type": "execute_result"
    }
   ],
   "source": [
    "data_frame.duplicated().sum()"
   ]
  },
  {
   "cell_type": "markdown",
   "metadata": {},
   "source": [
    "The `drop_duplicates()` method call can be then stored back onto the data_frame variable removing the duplicates."
   ]
  },
  {
   "cell_type": "code",
   "execution_count": 7,
   "metadata": {},
   "outputs": [
    {
     "data": {
      "text/plain": [
       "np.int64(0)"
      ]
     },
     "execution_count": 7,
     "metadata": {},
     "output_type": "execute_result"
    }
   ],
   "source": [
    "data_frame = data_frame.drop_duplicates()\n",
    "data_frame.duplicated().sum()"
   ]
  },
  {
   "cell_type": "markdown",
   "metadata": {},
   "source": [
    "#### Replace data\n",
    "\n",
    "We can run a lambda function on a column to modify its values. For a simple example, let’s convert the Sex to lowercase. To run a function over a complete column, we can use the apply method which iterates over each row and modifies the values."
   ]
  },
  {
   "cell_type": "code",
   "execution_count": 8,
   "metadata": {},
   "outputs": [
    {
     "data": {
      "application/vnd.microsoft.datawrangler.viewer.v0+json": {
       "columns": [
        {
         "name": "index",
         "rawType": "int64",
         "type": "integer"
        },
        {
         "name": "SEX",
         "rawType": "object",
         "type": "string"
        }
       ],
       "ref": "762dc25f-9a9c-4407-ad58-261da3f7ce30",
       "rows": [
        [
         "0",
         "female"
        ],
        [
         "1",
         "female"
        ],
        [
         "2",
         "male"
        ],
        [
         "3",
         "male"
        ],
        [
         "4",
         "male"
        ]
       ],
       "shape": {
        "columns": 1,
        "rows": 5
       }
      },
      "text/plain": [
       "0    female\n",
       "1    female\n",
       "2      male\n",
       "3      male\n",
       "4      male\n",
       "Name: SEX, dtype: object"
      ]
     },
     "execution_count": 8,
     "metadata": {},
     "output_type": "execute_result"
    }
   ],
   "source": [
    "data_frame['SEX'] = data_frame['SEX'].apply(lambda x: x.lower())\n",
    "data_frame['SEX'].head()"
   ]
  },
  {
   "cell_type": "markdown",
   "metadata": {},
   "source": [
    "We can check that there are no data entry errors by the `unique()` method call."
   ]
  },
  {
   "cell_type": "code",
   "execution_count": 9,
   "metadata": {},
   "outputs": [
    {
     "data": {
      "text/plain": [
       "array(['female', 'male', 'girl'], dtype=object)"
      ]
     },
     "execution_count": 9,
     "metadata": {},
     "output_type": "execute_result"
    }
   ],
   "source": [
    "data_frame['SEX'].unique()"
   ]
  },
  {
   "cell_type": "code",
   "execution_count": 10,
   "metadata": {},
   "outputs": [
    {
     "data": {
      "text/plain": [
       "array(['female', 'male'], dtype=object)"
      ]
     },
     "execution_count": 10,
     "metadata": {},
     "output_type": "execute_result"
    }
   ],
   "source": [
    "data_frame['SEX'] = data_frame['SEX'].apply(lambda gender: 'male' if gender.lower() == 'male' else 'female')\n",
    "data_frame['SEX'].unique()"
   ]
  },
  {
   "cell_type": "markdown",
   "metadata": {},
   "source": [
    "#### Remove outliers\n",
    "\n",
    "Outliers can skew your analysis on numerical columns, and it is important to remove them. We can use the 25th and 75th quartile on numerical data, to get the inter-quartile range. This allows us to estimate an acceptable range, and we can then filter out any values outside this range. Mathematically, outliers are values occurring outside 1.5 times the interquartile range (IQR) from the first quartile (Q1) or third quartile (Q3)."
   ]
  },
  {
   "cell_type": "code",
   "execution_count": 19,
   "metadata": {},
   "outputs": [
    {
     "name": "stdout",
     "output_type": "stream",
     "text": [
      "count    436.000000\n",
      "mean      91.224771\n",
      "std       11.511511\n",
      "min       58.000000\n",
      "25%       83.000000\n",
      "50%       91.000000\n",
      "75%       98.000000\n",
      "max      124.000000\n",
      "Name: BGU, dtype: float64\n",
      "Outliers are a BGU above 120.5 or below 60.5\n"
     ]
    }
   ],
   "source": [
    "#get the inter-quartile range on the salary column\n",
    "print(data_frame['BGU'].describe())\n",
    "Q1 = data_frame['BGU'].quantile(0.25)\n",
    "Q3 = data_frame['BGU'].quantile(0.75)\n",
    "IQR = Q3 - Q1\n",
    "print(f'Outliers are a BGU above {Q3 + IQR * 1.5} or below {Q1 - IQR * 1.5}')\n"
   ]
  },
  {
   "cell_type": "code",
   "execution_count": 20,
   "metadata": {},
   "outputs": [
    {
     "name": "stdout",
     "output_type": "stream",
     "text": [
      "count    427.000000\n",
      "mean      90.997658\n",
      "std       10.656722\n",
      "min       66.000000\n",
      "25%       83.500000\n",
      "50%       91.000000\n",
      "75%       98.000000\n",
      "max      120.000000\n",
      "Name: BGU, dtype: float64\n"
     ]
    }
   ],
   "source": [
    "# Filter salaries within the acceptable range\n",
    "data_frame = data_frame[(data_frame['BGU'] >= Q1 - 1.5 * IQR) & (data_frame['BGU'] <= Q3 + 1.5 * IQR)]\n",
    "print(data_frame['BGU'].describe())"
   ]
  },
  {
   "cell_type": "markdown",
   "metadata": {},
   "source": [
    "#### Scaling features to a common range\n",
    "\n",
    "Scaling the features makes it easier for machine learning algorithms to find the optimal solution, as the different scales of the features do not influence them."
   ]
  },
  {
   "cell_type": "code",
   "execution_count": 21,
   "metadata": {},
   "outputs": [
    {
     "data": {
      "application/vnd.microsoft.datawrangler.viewer.v0+json": {
       "columns": [
        {
         "name": "index",
         "rawType": "object",
         "type": "string"
        },
        {
         "name": "BMI",
         "rawType": "float64",
         "type": "float"
        },
        {
         "name": "BP",
         "rawType": "float64",
         "type": "float"
        },
        {
         "name": "TC",
         "rawType": "float64",
         "type": "float"
        },
        {
         "name": "BGU",
         "rawType": "float64",
         "type": "float"
        },
        {
         "name": "FDR",
         "rawType": "float64",
         "type": "float"
        },
        {
         "name": "Target",
         "rawType": "float64",
         "type": "float"
        }
       ],
       "ref": "2a20c966-b19f-4112-a612-4840881696f3",
       "rows": [
        [
         "count",
         "427.0",
         "427.0",
         "427.0",
         "427.0",
         "427.0",
         "427.0"
        ],
        [
         "mean",
         "0.4491428571428571",
         "0.4656558754649401",
         "4.042224824355972",
         "0.4332943013270882",
         "1.063231850117096",
         "149.86958759097257"
        ],
        [
         "std",
         "0.1698371650803257",
         "0.1601997122587422",
         "1.2769827503300586",
         "0.17761203209528914",
         "0.8297473172228927",
         "75.81945852812956"
        ],
        [
         "min",
         "0.12",
         "0.08235294117647059",
         "2.0",
         "0.016666666666666666",
         "0.0",
         "25.0"
        ],
        [
         "25%",
         "0.326",
         "0.34705882352941175",
         "3.0",
         "0.30833333333333335",
         "0.0",
         "85.5"
        ],
        [
         "50%",
         "0.428",
         "0.4470588235294118",
         "4.0",
         "0.43333333333333335",
         "1.0",
         "139.0"
        ],
        [
         "75%",
         "0.5640000000000001",
         "0.5882352941176471",
         "5.0",
         "0.55",
         "2.0",
         "204.0"
        ],
        [
         "max",
         "0.9319999999999999",
         "0.9176470588235294",
         "9.09",
         "0.9166666666666666",
         "3.0",
         "341.0"
        ]
       ],
       "shape": {
        "columns": 6,
        "rows": 8
       }
      },
      "text/html": [
       "<div>\n",
       "<style scoped>\n",
       "    .dataframe tbody tr th:only-of-type {\n",
       "        vertical-align: middle;\n",
       "    }\n",
       "\n",
       "    .dataframe tbody tr th {\n",
       "        vertical-align: top;\n",
       "    }\n",
       "\n",
       "    .dataframe thead th {\n",
       "        text-align: right;\n",
       "    }\n",
       "</style>\n",
       "<table border=\"1\" class=\"dataframe\">\n",
       "  <thead>\n",
       "    <tr style=\"text-align: right;\">\n",
       "      <th></th>\n",
       "      <th>BMI</th>\n",
       "      <th>BP</th>\n",
       "      <th>TC</th>\n",
       "      <th>BGU</th>\n",
       "      <th>FDR</th>\n",
       "      <th>Target</th>\n",
       "    </tr>\n",
       "  </thead>\n",
       "  <tbody>\n",
       "    <tr>\n",
       "      <th>count</th>\n",
       "      <td>427.000000</td>\n",
       "      <td>427.000000</td>\n",
       "      <td>427.000000</td>\n",
       "      <td>427.000000</td>\n",
       "      <td>427.000000</td>\n",
       "      <td>427.000000</td>\n",
       "    </tr>\n",
       "    <tr>\n",
       "      <th>mean</th>\n",
       "      <td>0.449143</td>\n",
       "      <td>0.465656</td>\n",
       "      <td>4.042225</td>\n",
       "      <td>0.433294</td>\n",
       "      <td>1.063232</td>\n",
       "      <td>149.869588</td>\n",
       "    </tr>\n",
       "    <tr>\n",
       "      <th>std</th>\n",
       "      <td>0.169837</td>\n",
       "      <td>0.160200</td>\n",
       "      <td>1.276983</td>\n",
       "      <td>0.177612</td>\n",
       "      <td>0.829747</td>\n",
       "      <td>75.819459</td>\n",
       "    </tr>\n",
       "    <tr>\n",
       "      <th>min</th>\n",
       "      <td>0.120000</td>\n",
       "      <td>0.082353</td>\n",
       "      <td>2.000000</td>\n",
       "      <td>0.016667</td>\n",
       "      <td>0.000000</td>\n",
       "      <td>25.000000</td>\n",
       "    </tr>\n",
       "    <tr>\n",
       "      <th>25%</th>\n",
       "      <td>0.326000</td>\n",
       "      <td>0.347059</td>\n",
       "      <td>3.000000</td>\n",
       "      <td>0.308333</td>\n",
       "      <td>0.000000</td>\n",
       "      <td>85.500000</td>\n",
       "    </tr>\n",
       "    <tr>\n",
       "      <th>50%</th>\n",
       "      <td>0.428000</td>\n",
       "      <td>0.447059</td>\n",
       "      <td>4.000000</td>\n",
       "      <td>0.433333</td>\n",
       "      <td>1.000000</td>\n",
       "      <td>139.000000</td>\n",
       "    </tr>\n",
       "    <tr>\n",
       "      <th>75%</th>\n",
       "      <td>0.564000</td>\n",
       "      <td>0.588235</td>\n",
       "      <td>5.000000</td>\n",
       "      <td>0.550000</td>\n",
       "      <td>2.000000</td>\n",
       "      <td>204.000000</td>\n",
       "    </tr>\n",
       "    <tr>\n",
       "      <th>max</th>\n",
       "      <td>0.932000</td>\n",
       "      <td>0.917647</td>\n",
       "      <td>9.090000</td>\n",
       "      <td>0.916667</td>\n",
       "      <td>3.000000</td>\n",
       "      <td>341.000000</td>\n",
       "    </tr>\n",
       "  </tbody>\n",
       "</table>\n",
       "</div>"
      ],
      "text/plain": [
       "              BMI          BP          TC         BGU         FDR      Target\n",
       "count  427.000000  427.000000  427.000000  427.000000  427.000000  427.000000\n",
       "mean     0.449143    0.465656    4.042225    0.433294    1.063232  149.869588\n",
       "std      0.169837    0.160200    1.276983    0.177612    0.829747   75.819459\n",
       "min      0.120000    0.082353    2.000000    0.016667    0.000000   25.000000\n",
       "25%      0.326000    0.347059    3.000000    0.308333    0.000000   85.500000\n",
       "50%      0.428000    0.447059    4.000000    0.433333    1.000000  139.000000\n",
       "75%      0.564000    0.588235    5.000000    0.550000    2.000000  204.000000\n",
       "max      0.932000    0.917647    9.090000    0.916667    3.000000  341.000000"
      ]
     },
     "execution_count": 21,
     "metadata": {},
     "output_type": "execute_result"
    }
   ],
   "source": [
    "scale_feature = 'BGU'\n",
    "\n",
    "#the minimum value with space for outliers\n",
    "MIN_BMI = 65\n",
    "\n",
    "#the maximum value with space for outliers\n",
    "MAX_BMI = 125\n",
    "\n",
    "#scale features\n",
    "data_frame[scale_feature] = [(X - MIN_BMI) / (MAX_BMI - MIN_BMI) for X in data_frame[scale_feature]]\n",
    "\n",
    "data_frame.describe()"
   ]
  },
  {
   "cell_type": "markdown",
   "metadata": {},
   "source": [
    "> [!important]\n",
    "> You need to save the calculations for each dataset you scale for scaling new values for prediction. Use [2.1.2.data.records.md](2.1.2.data.records.md) to record this information."
   ]
  },
  {
   "cell_type": "markdown",
   "metadata": {},
   "source": [
    "#### Save the wrangled data to CSV"
   ]
  },
  {
   "cell_type": "code",
   "execution_count": 22,
   "metadata": {},
   "outputs": [],
   "source": [
    "data_frame.to_csv('../2.2.Feature_Engineering/2.2.1.wrangled_data.csv', index=False)"
   ]
  }
 ],
 "metadata": {
  "kernelspec": {
   "display_name": ".venv",
   "language": "python",
   "name": "python3"
  },
  "language_info": {
   "codemirror_mode": {
    "name": "ipython",
    "version": 3
   },
   "file_extension": ".py",
   "mimetype": "text/x-python",
   "name": "python",
   "nbconvert_exporter": "python",
   "pygments_lexer": "ipython3",
   "version": "3.12.1"
  }
 },
 "nbformat": 4,
 "nbformat_minor": 2
}
